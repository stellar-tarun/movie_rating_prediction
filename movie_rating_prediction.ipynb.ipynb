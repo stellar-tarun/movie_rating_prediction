{
 "cells": [
  {
   "cell_type": "markdown",
   "id": "bfee5a44-5d6d-47ef-b86f-f3fd93410c97",
   "metadata": {},
   "source": [
    "# Movie Rating Prediction Using Regression\n",
    "\n",
    "This project predicts IMDB ratings for Indian movies using machine learning regression models.  \n",
    "We use features such as Genre, Year, Duration, Director, and Actors.\n",
    "\n",
    "## Objective:\n",
    "Build a model to estimate movie ratings based on metadata.\n",
    "\n",
    "## Techniques Used:\n",
    "- Data Cleaning & Preprocessing\n",
    "- One-Hot Encoding\n",
    "- Linear Regression\n",
    "- Decision Tree Regression\n",
    "- RMSE & MAE evaluation\n"
   ]
  },
  {
   "cell_type": "code",
   "execution_count": 1,
   "id": "749fdf55-2a02-4114-9497-7a77ba4bbede",
   "metadata": {},
   "outputs": [],
   "source": [
    "### Step 1: Import Required Libraries\n",
    "\n",
    "#We start by importing essential Python libraries for data handling, visualization, and machine learning.\n",
    "#- `pandas` for working with the dataset\n",
    "#- `numpy` for numeric operations\n",
    "#- `matplotlib` & `seaborn` for visualizations\n",
    "\n",
    "import pandas as pd\n",
    "import numpy as np\n",
    "import matplotlib.pyplot as plt\n",
    "import seaborn as sns"
   ]
  },
  {
   "cell_type": "code",
   "execution_count": 2,
   "id": "d01ccad4-7ddd-4dc3-bd7f-232a7e617728",
   "metadata": {},
   "outputs": [],
   "source": [
    "### Step 2: Load the IMDb Movies Dataset\n",
    "\n",
    "#We load the CSV file using pandas.  \n",
    "#The encoding `\"latin1\"` is used to handle special characters (like in director or actor names).\n",
    "\n",
    "df = pd.read_csv(\"imdb_movies.csv\",encoding = \"latin1\")"
   ]
  },
  {
   "cell_type": "code",
   "execution_count": 3,
   "id": "9e5df57a-a6d4-43b8-8b01-ce3eab24841a",
   "metadata": {},
   "outputs": [
    {
     "data": {
      "text/plain": [
       "Index(['Name', 'Year', 'Duration', 'Genre', 'Rating', 'Votes', 'Director',\n",
       "       'Actor 1', 'Actor 2', 'Actor 3'],\n",
       "      dtype='object')"
      ]
     },
     "execution_count": 3,
     "metadata": {},
     "output_type": "execute_result"
    }
   ],
   "source": [
    "### Step 3: Check Column Names\n",
    "\n",
    "#Let’s print all column names so we can choose the useful ones for analysis and modeling.\n",
    "\n",
    "df.columns"
   ]
  },
  {
   "cell_type": "code",
   "execution_count": 4,
   "id": "66e60a78-8227-4f5a-9fba-0e11815126f6",
   "metadata": {},
   "outputs": [
    {
     "name": "stdout",
     "output_type": "stream",
     "text": [
      "<class 'pandas.core.frame.DataFrame'>\n",
      "RangeIndex: 15509 entries, 0 to 15508\n",
      "Data columns (total 10 columns):\n",
      " #   Column    Non-Null Count  Dtype  \n",
      "---  ------    --------------  -----  \n",
      " 0   Name      15509 non-null  object \n",
      " 1   Year      14981 non-null  object \n",
      " 2   Duration  7240 non-null   object \n",
      " 3   Genre     13632 non-null  object \n",
      " 4   Rating    7919 non-null   float64\n",
      " 5   Votes     7920 non-null   object \n",
      " 6   Director  14984 non-null  object \n",
      " 7   Actor 1   13892 non-null  object \n",
      " 8   Actor 2   13125 non-null  object \n",
      " 9   Actor 3   12365 non-null  object \n",
      "dtypes: float64(1), object(9)\n",
      "memory usage: 1.2+ MB\n"
     ]
    }
   ],
   "source": [
    "### Step 4: Data Info and Null Value Check\n",
    "\n",
    "#This shows:\n",
    "#- Total number of rows and columns\n",
    "#- Data types of each column\n",
    "#- How many values are missing (nulls)\n",
    "\n",
    "#It helps us decide which columns we can use and whether we need to clean the data.\n",
    "\n",
    "df.info()"
   ]
  },
  {
   "cell_type": "code",
   "execution_count": 5,
   "id": "0a0e1818-4f07-4587-ab05-3d36f2b798c7",
   "metadata": {},
   "outputs": [
    {
     "data": {
      "text/html": [
       "<div>\n",
       "<style scoped>\n",
       "    .dataframe tbody tr th:only-of-type {\n",
       "        vertical-align: middle;\n",
       "    }\n",
       "\n",
       "    .dataframe tbody tr th {\n",
       "        vertical-align: top;\n",
       "    }\n",
       "\n",
       "    .dataframe thead th {\n",
       "        text-align: right;\n",
       "    }\n",
       "</style>\n",
       "<table border=\"1\" class=\"dataframe\">\n",
       "  <thead>\n",
       "    <tr style=\"text-align: right;\">\n",
       "      <th></th>\n",
       "      <th>Name</th>\n",
       "      <th>Year</th>\n",
       "      <th>Duration</th>\n",
       "      <th>Genre</th>\n",
       "      <th>Rating</th>\n",
       "      <th>Votes</th>\n",
       "      <th>Director</th>\n",
       "      <th>Actor 1</th>\n",
       "      <th>Actor 2</th>\n",
       "      <th>Actor 3</th>\n",
       "    </tr>\n",
       "  </thead>\n",
       "  <tbody>\n",
       "    <tr>\n",
       "      <th>0</th>\n",
       "      <td></td>\n",
       "      <td>NaN</td>\n",
       "      <td>NaN</td>\n",
       "      <td>Drama</td>\n",
       "      <td>NaN</td>\n",
       "      <td>NaN</td>\n",
       "      <td>J.S. Randhawa</td>\n",
       "      <td>Manmauji</td>\n",
       "      <td>Birbal</td>\n",
       "      <td>Rajendra Bhatia</td>\n",
       "    </tr>\n",
       "    <tr>\n",
       "      <th>1</th>\n",
       "      <td>#Gadhvi (He thought he was Gandhi)</td>\n",
       "      <td>(2019)</td>\n",
       "      <td>109 min</td>\n",
       "      <td>Drama</td>\n",
       "      <td>7.0</td>\n",
       "      <td>8</td>\n",
       "      <td>Gaurav Bakshi</td>\n",
       "      <td>Rasika Dugal</td>\n",
       "      <td>Vivek Ghamande</td>\n",
       "      <td>Arvind Jangid</td>\n",
       "    </tr>\n",
       "    <tr>\n",
       "      <th>2</th>\n",
       "      <td>#Homecoming</td>\n",
       "      <td>(2021)</td>\n",
       "      <td>90 min</td>\n",
       "      <td>Drama, Musical</td>\n",
       "      <td>NaN</td>\n",
       "      <td>NaN</td>\n",
       "      <td>Soumyajit Majumdar</td>\n",
       "      <td>Sayani Gupta</td>\n",
       "      <td>Plabita Borthakur</td>\n",
       "      <td>Roy Angana</td>\n",
       "    </tr>\n",
       "    <tr>\n",
       "      <th>3</th>\n",
       "      <td>#Yaaram</td>\n",
       "      <td>(2019)</td>\n",
       "      <td>110 min</td>\n",
       "      <td>Comedy, Romance</td>\n",
       "      <td>4.4</td>\n",
       "      <td>35</td>\n",
       "      <td>Ovais Khan</td>\n",
       "      <td>Prateik</td>\n",
       "      <td>Ishita Raj</td>\n",
       "      <td>Siddhant Kapoor</td>\n",
       "    </tr>\n",
       "    <tr>\n",
       "      <th>4</th>\n",
       "      <td>...And Once Again</td>\n",
       "      <td>(2010)</td>\n",
       "      <td>105 min</td>\n",
       "      <td>Drama</td>\n",
       "      <td>NaN</td>\n",
       "      <td>NaN</td>\n",
       "      <td>Amol Palekar</td>\n",
       "      <td>Rajat Kapoor</td>\n",
       "      <td>Rituparna Sengupta</td>\n",
       "      <td>Antara Mali</td>\n",
       "    </tr>\n",
       "    <tr>\n",
       "      <th>5</th>\n",
       "      <td>...Aur Pyaar Ho Gaya</td>\n",
       "      <td>(1997)</td>\n",
       "      <td>147 min</td>\n",
       "      <td>Comedy, Drama, Musical</td>\n",
       "      <td>4.7</td>\n",
       "      <td>827</td>\n",
       "      <td>Rahul Rawail</td>\n",
       "      <td>Bobby Deol</td>\n",
       "      <td>Aishwarya Rai Bachchan</td>\n",
       "      <td>Shammi Kapoor</td>\n",
       "    </tr>\n",
       "    <tr>\n",
       "      <th>6</th>\n",
       "      <td>...Yahaan</td>\n",
       "      <td>(2005)</td>\n",
       "      <td>142 min</td>\n",
       "      <td>Drama, Romance, War</td>\n",
       "      <td>7.4</td>\n",
       "      <td>1,086</td>\n",
       "      <td>Shoojit Sircar</td>\n",
       "      <td>Jimmy Sheirgill</td>\n",
       "      <td>Minissha Lamba</td>\n",
       "      <td>Yashpal Sharma</td>\n",
       "    </tr>\n",
       "    <tr>\n",
       "      <th>7</th>\n",
       "      <td>.in for Motion</td>\n",
       "      <td>(2008)</td>\n",
       "      <td>59 min</td>\n",
       "      <td>Documentary</td>\n",
       "      <td>NaN</td>\n",
       "      <td>NaN</td>\n",
       "      <td>Anirban Datta</td>\n",
       "      <td>NaN</td>\n",
       "      <td>NaN</td>\n",
       "      <td>NaN</td>\n",
       "    </tr>\n",
       "    <tr>\n",
       "      <th>8</th>\n",
       "      <td>?: A Question Mark</td>\n",
       "      <td>(2012)</td>\n",
       "      <td>82 min</td>\n",
       "      <td>Horror, Mystery, Thriller</td>\n",
       "      <td>5.6</td>\n",
       "      <td>326</td>\n",
       "      <td>Allyson Patel</td>\n",
       "      <td>Yash Dave</td>\n",
       "      <td>Muntazir Ahmad</td>\n",
       "      <td>Kiran Bhatia</td>\n",
       "    </tr>\n",
       "    <tr>\n",
       "      <th>9</th>\n",
       "      <td>@Andheri</td>\n",
       "      <td>(2014)</td>\n",
       "      <td>116 min</td>\n",
       "      <td>Action, Crime, Thriller</td>\n",
       "      <td>4.0</td>\n",
       "      <td>11</td>\n",
       "      <td>Biju Bhaskar Nair</td>\n",
       "      <td>Augustine</td>\n",
       "      <td>Fathima Babu</td>\n",
       "      <td>Byon</td>\n",
       "    </tr>\n",
       "  </tbody>\n",
       "</table>\n",
       "</div>"
      ],
      "text/plain": [
       "                                 Name    Year Duration  \\\n",
       "0                                         NaN      NaN   \n",
       "1  #Gadhvi (He thought he was Gandhi)  (2019)  109 min   \n",
       "2                         #Homecoming  (2021)   90 min   \n",
       "3                             #Yaaram  (2019)  110 min   \n",
       "4                   ...And Once Again  (2010)  105 min   \n",
       "5                ...Aur Pyaar Ho Gaya  (1997)  147 min   \n",
       "6                           ...Yahaan  (2005)  142 min   \n",
       "7                      .in for Motion  (2008)   59 min   \n",
       "8                  ?: A Question Mark  (2012)   82 min   \n",
       "9                            @Andheri  (2014)  116 min   \n",
       "\n",
       "                       Genre  Rating  Votes            Director  \\\n",
       "0                      Drama     NaN    NaN       J.S. Randhawa   \n",
       "1                      Drama     7.0      8       Gaurav Bakshi   \n",
       "2             Drama, Musical     NaN    NaN  Soumyajit Majumdar   \n",
       "3            Comedy, Romance     4.4     35          Ovais Khan   \n",
       "4                      Drama     NaN    NaN        Amol Palekar   \n",
       "5     Comedy, Drama, Musical     4.7    827        Rahul Rawail   \n",
       "6        Drama, Romance, War     7.4  1,086      Shoojit Sircar   \n",
       "7                Documentary     NaN    NaN       Anirban Datta   \n",
       "8  Horror, Mystery, Thriller     5.6    326       Allyson Patel   \n",
       "9    Action, Crime, Thriller     4.0     11   Biju Bhaskar Nair   \n",
       "\n",
       "           Actor 1                 Actor 2          Actor 3  \n",
       "0         Manmauji                  Birbal  Rajendra Bhatia  \n",
       "1     Rasika Dugal          Vivek Ghamande    Arvind Jangid  \n",
       "2     Sayani Gupta       Plabita Borthakur       Roy Angana  \n",
       "3          Prateik              Ishita Raj  Siddhant Kapoor  \n",
       "4     Rajat Kapoor      Rituparna Sengupta      Antara Mali  \n",
       "5       Bobby Deol  Aishwarya Rai Bachchan    Shammi Kapoor  \n",
       "6  Jimmy Sheirgill          Minissha Lamba   Yashpal Sharma  \n",
       "7              NaN                     NaN              NaN  \n",
       "8        Yash Dave          Muntazir Ahmad     Kiran Bhatia  \n",
       "9        Augustine            Fathima Babu             Byon  "
      ]
     },
     "execution_count": 5,
     "metadata": {},
     "output_type": "execute_result"
    }
   ],
   "source": [
    "### Step 5: View the First Few Records\n",
    "\n",
    "#Let's take a look at the first 10 rows of the dataset to understand what the movie entries look like.\n",
    "\n",
    "df.head(10)"
   ]
  },
  {
   "cell_type": "code",
   "execution_count": 6,
   "id": "a0413be8-90f9-47bd-aa9b-e63e57678d23",
   "metadata": {},
   "outputs": [
    {
     "data": {
      "text/plain": [
       "Name           0\n",
       "Year         528\n",
       "Duration    8269\n",
       "Genre       1877\n",
       "Rating      7590\n",
       "Votes       7589\n",
       "Director     525\n",
       "Actor 1     1617\n",
       "Actor 2     2384\n",
       "Actor 3     3144\n",
       "dtype: int64"
      ]
     },
     "execution_count": 6,
     "metadata": {},
     "output_type": "execute_result"
    }
   ],
   "source": [
    "### Step 6: Check for Missing Values\n",
    "\n",
    "#This tells us how many values are missing (null) in each column.  \n",
    "#It helps us decide which columns to clean or drop.\n",
    "\n",
    "df.isnull().sum()"
   ]
  },
  {
   "cell_type": "code",
   "execution_count": 7,
   "id": "dd42120f-ecd1-4bbb-ad6f-c19c55f0e75e",
   "metadata": {},
   "outputs": [
    {
     "data": {
      "text/plain": [
       "np.int64(6)"
      ]
     },
     "execution_count": 7,
     "metadata": {},
     "output_type": "execute_result"
    }
   ],
   "source": [
    "### Step 7: Check for Duplicate Records\n",
    "\n",
    "#We check for duplicate rows in the dataset to avoid redundancy in training the model.\n",
    "\n",
    "df.duplicated().sum()"
   ]
  },
  {
   "cell_type": "code",
   "execution_count": 8,
   "id": "c2e65879-6fac-40c3-bacf-f28698d0a6dc",
   "metadata": {},
   "outputs": [],
   "source": [
    "### Step 9: Drop Rows Without Ratings\n",
    "\n",
    "#Since we're predicting IMDb ratings, we drop rows where the Rating is missing.\n",
    "#This gives us a clean dataset (`df_clean`) to work with.\n",
    "df_clean = df.dropna(subset = ['Rating']).copy()"
   ]
  },
  {
   "cell_type": "code",
   "execution_count": 9,
   "id": "9464d97c-e39d-4f5c-9a84-b3989e75d96f",
   "metadata": {},
   "outputs": [
    {
     "name": "stdout",
     "output_type": "stream",
     "text": [
      "<class 'pandas.core.frame.DataFrame'>\n",
      "Index: 7919 entries, 1 to 15508\n",
      "Data columns (total 10 columns):\n",
      " #   Column    Non-Null Count  Dtype  \n",
      "---  ------    --------------  -----  \n",
      " 0   Name      7919 non-null   object \n",
      " 1   Year      7919 non-null   object \n",
      " 2   Duration  5851 non-null   object \n",
      " 3   Genre     7817 non-null   object \n",
      " 4   Rating    7919 non-null   float64\n",
      " 5   Votes     7919 non-null   object \n",
      " 6   Director  7914 non-null   object \n",
      " 7   Actor 1   7794 non-null   object \n",
      " 8   Actor 2   7719 non-null   object \n",
      " 9   Actor 3   7627 non-null   object \n",
      "dtypes: float64(1), object(9)\n",
      "memory usage: 680.5+ KB\n"
     ]
    }
   ],
   "source": [
    "### Step 10: Confirm Cleaned Dataset\n",
    "\n",
    "#Now we check the structure of `df_clean` to ensure there are no missing ratings,\n",
    "#and fewer missing values in the other important columns.\n",
    "\n",
    "\n",
    "df_clean.info()"
   ]
  },
  {
   "cell_type": "code",
   "execution_count": 10,
   "id": "54296963-c7d6-4823-847f-627d1d826732",
   "metadata": {},
   "outputs": [],
   "source": [
    "### Step 11: Extract and Convert Year\n",
    "\n",
    "#Some year values are inside brackets or extra text (like \"(2019)\").  \n",
    "#We use regex to extract the 4-digit year and convert it into float format for modeling.\n",
    "\n",
    "df_clean['Year'] = df_clean['Year'].str.extract(r'(\\d{4})')\n",
    "df_clean['Year'] = df_clean['Year'].astype(float)\n"
   ]
  },
  {
   "cell_type": "code",
   "execution_count": 11,
   "id": "09301b55-2ef8-45f0-a3bb-ec43589a8c22",
   "metadata": {},
   "outputs": [
    {
     "name": "stdout",
     "output_type": "stream",
     "text": [
      "1     2019.0\n",
      "3     2019.0\n",
      "5     1997.0\n",
      "6     2005.0\n",
      "8     2012.0\n",
      "9     2014.0\n",
      "10    2004.0\n",
      "11    2016.0\n",
      "12    1991.0\n",
      "13    2012.0\n",
      "Name: Year, dtype: float64\n"
     ]
    }
   ],
   "source": [
    "### Step 12: Preview Cleaned Year Values\n",
    "\n",
    "#Let’s check if the year column is now in a clean numeric format (e.g., 2019.0).\n",
    "\n",
    "print(df_clean['Year'].head(10))\n"
   ]
  },
  {
   "cell_type": "code",
   "execution_count": 12,
   "id": "54bf7b70-dab8-4679-965f-db74cc59ace2",
   "metadata": {},
   "outputs": [],
   "source": [
    "### Step 13: Clean Duration Column\n",
    "\n",
    "#The duration is in the format like \"110 min\".  \n",
    "#We remove the \"min\" text and convert the values to numeric (float) type.\n",
    "\n",
    "df_clean['Duration'] = df_clean['Duration'].str.replace('min','')\n",
    "df_clean['Duration'] = pd.to_numeric(df_clean['Duration'],errors='coerce')"
   ]
  },
  {
   "cell_type": "code",
   "execution_count": 13,
   "id": "3b652564-ddef-46b1-bdd1-cc87c224e96a",
   "metadata": {},
   "outputs": [
    {
     "name": "stdout",
     "output_type": "stream",
     "text": [
      "1     109.0\n",
      "3     110.0\n",
      "5     147.0\n",
      "6     142.0\n",
      "8      82.0\n",
      "9     116.0\n",
      "10     96.0\n",
      "11    120.0\n",
      "12    161.0\n",
      "13    166.0\n",
      "Name: Duration, dtype: float64\n"
     ]
    }
   ],
   "source": [
    "### Step 14: Preview Cleaned Duration Column\n",
    "\n",
    "#Now we verify if durations are converted properly into float numbers (in minutes).\n",
    "\n",
    "print(df_clean['Duration'].head(10))"
   ]
  },
  {
   "cell_type": "code",
   "execution_count": 14,
   "id": "cbbef3f3-e73d-422d-a4fa-3668e9f23ba7",
   "metadata": {},
   "outputs": [],
   "source": [
    "### Step 15: Clean Votes Column\n",
    "\n",
    "#Votes often contain commas like \"1,086\".  \n",
    "#We remove commas and convert votes into numeric type so they can be used in the ML model.\n",
    "\n",
    "df_clean['Votes'] = df_clean['Votes'].str.replace(',','')\n",
    "df_clean['Votes'] = pd.to_numeric(df_clean['Votes'],errors='coerce')"
   ]
  },
  {
   "cell_type": "code",
   "execution_count": 15,
   "id": "d6633412-d2f1-4c0f-9fc7-9b92090eb0e2",
   "metadata": {},
   "outputs": [
    {
     "name": "stdout",
     "output_type": "stream",
     "text": [
      "1        8\n",
      "3       35\n",
      "5      827\n",
      "6     1086\n",
      "8      326\n",
      "9       11\n",
      "10      17\n",
      "11      59\n",
      "12     983\n",
      "13     512\n",
      "Name: Votes, dtype: int64\n"
     ]
    }
   ],
   "source": [
    "### Step 16: Preview Cleaned Votes Column\n",
    "\n",
    "#Let’s check the cleaned `Votes` values to confirm they are properly converted to integers.\n",
    "\n",
    "print(df_clean['Votes'].head(10))"
   ]
  },
  {
   "cell_type": "code",
   "execution_count": 16,
   "id": "ae751f38-cc6c-4a4d-a40a-6985775b988e",
   "metadata": {},
   "outputs": [],
   "source": [
    "### Step 17: Handle Missing Numeric Values\n",
    "\n",
    "#We fill missing values in `Year`, `Duration`, and `Votes` using their **median** values.  \n",
    "#This is a simple and safe technique to avoid deleting useful rows from our dataset.\n",
    "\n",
    "df_clean['Year'] = df_clean['Year'].fillna(df_clean['Year'].median())\n",
    "df_clean['Duration'] = df_clean['Duration'].fillna(df_clean['Duration'].median())\n",
    "df_clean['Votes'] = df_clean['Votes'].fillna(df_clean['Votes'].median())\n"
   ]
  },
  {
   "cell_type": "code",
   "execution_count": 17,
   "id": "c15df6fd-0df4-4751-866a-ff5404b38f23",
   "metadata": {},
   "outputs": [
    {
     "name": "stdout",
     "output_type": "stream",
     "text": [
      "Name          0\n",
      "Year          0\n",
      "Duration      0\n",
      "Genre       102\n",
      "Rating        0\n",
      "Votes         0\n",
      "Director      5\n",
      "Actor 1     125\n",
      "Actor 2     200\n",
      "Actor 3     292\n",
      "dtype: int64\n"
     ]
    }
   ],
   "source": [
    "### Step 18: Check Missing Data Again\n",
    "\n",
    "#After filling the numeric columns, we check which columns still have missing values.  \n",
    "#Now only the **categorical columns** like `Genre`, `Director`, `Actor` are left to clean.\n",
    "\n",
    "print(df_clean.isnull().sum())"
   ]
  },
  {
   "cell_type": "code",
   "execution_count": 18,
   "id": "bda65e32-287b-4808-a0ee-20908f3081dc",
   "metadata": {},
   "outputs": [],
   "source": [
    "### Step 19: Fill Missing Categorical Data\n",
    "\n",
    "#For columns like Director, Actor 1/2/3, and Genre, we replace missing values with `\"Unknown\"`.  \n",
    "#This avoids data loss while still keeping those rows useful for training.\n",
    "\n",
    "df_clean['Year'] = df_clean['Year'].fillna(df_clean['Year'].median())\n",
    "df_clean['Duration'] = df_clean['Duration'].fillna(df_clean['Duration'].median())\n",
    "df_clean['Votes'] = df_clean['Votes'].fillna(df_clean['Votes'].median())\n",
    "\n",
    "df_clean['Director'] = df_clean['Director'].fillna('Unknown')\n",
    "df_clean['Actor 1'] = df_clean['Actor 1'].fillna('Unknown')\n",
    "df_clean['Actor 2'] = df_clean['Actor 2'].fillna('Unknown')\n",
    "df_clean['Actor 3'] = df_clean['Actor 3'].fillna('Unknown')\n",
    "df_clean['Genre'] = df_clean['Genre'].fillna('Unknown')\n"
   ]
  },
  {
   "cell_type": "code",
   "execution_count": 19,
   "id": "e61d8e68-68df-460b-84b3-51171dcef9d8",
   "metadata": {},
   "outputs": [
    {
     "name": "stdout",
     "output_type": "stream",
     "text": [
      "Name        0\n",
      "Year        0\n",
      "Duration    0\n",
      "Genre       0\n",
      "Rating      0\n",
      "Votes       0\n",
      "Director    0\n",
      "Actor 1     0\n",
      "Actor 2     0\n",
      "Actor 3     0\n",
      "dtype: int64\n"
     ]
    }
   ],
   "source": [
    "\n",
    "\n",
    "print(df_clean.isnull().sum())"
   ]
  },
  {
   "cell_type": "code",
   "execution_count": 20,
   "id": "f36465fb-5c26-4fce-9ac1-96be6b90be73",
   "metadata": {},
   "outputs": [],
   "source": [
    "df_clean['Genre'] = df_clean['Genre'].fillna(\"Unknown\")\n",
    "df_clean['Main_Genre'] = df_clean['Genre'].apply(lambda x: x.split(',')[0])\n"
   ]
  },
  {
   "cell_type": "code",
   "execution_count": 21,
   "id": "7a6bc3e4-8459-42b6-8bab-665f8ca2db0a",
   "metadata": {},
   "outputs": [
    {
     "name": "stdout",
     "output_type": "stream",
     "text": [
      "Main_Genre\n",
      "Drama          2532\n",
      "Action         2306\n",
      "Comedy         1190\n",
      "Crime           343\n",
      "Romance         279\n",
      "Horror          188\n",
      "Adventure       160\n",
      "Documentary     143\n",
      "Thriller        138\n",
      "Musical         121\n",
      "Unknown         102\n",
      "Biography        99\n",
      "Family           85\n",
      "Mystery          77\n",
      "Animation        73\n",
      "Fantasy          52\n",
      "History          15\n",
      "Sci-Fi            6\n",
      "Music             5\n",
      "War               3\n",
      "Sport             2\n",
      "Name: count, dtype: int64\n"
     ]
    }
   ],
   "source": [
    "print(df_clean['Main_Genre'].value_counts())\n"
   ]
  },
  {
   "cell_type": "code",
   "execution_count": 22,
   "id": "1baf5d2c-469b-4af6-99a0-33b24b83f57e",
   "metadata": {},
   "outputs": [
    {
     "name": "stdout",
     "output_type": "stream",
     "text": [
      "   Genre_Action  Genre_Adventure  Genre_Animation  Genre_Biography  \\\n",
      "1         False            False            False            False   \n",
      "3         False            False            False            False   \n",
      "5         False            False            False            False   \n",
      "6         False            False            False            False   \n",
      "8         False            False            False            False   \n",
      "\n",
      "   Genre_Comedy  Genre_Crime  Genre_Documentary  Genre_Drama  Genre_Family  \\\n",
      "1         False        False              False         True         False   \n",
      "3          True        False              False        False         False   \n",
      "5          True        False              False        False         False   \n",
      "6         False        False              False         True         False   \n",
      "8         False        False              False        False         False   \n",
      "\n",
      "   Genre_Fantasy  ...  Genre_Horror  Genre_Music  Genre_Musical  \\\n",
      "1          False  ...         False        False          False   \n",
      "3          False  ...         False        False          False   \n",
      "5          False  ...         False        False          False   \n",
      "6          False  ...         False        False          False   \n",
      "8          False  ...          True        False          False   \n",
      "\n",
      "   Genre_Mystery  Genre_Romance  Genre_Sci-Fi  Genre_Sport  Genre_Thriller  \\\n",
      "1          False          False         False        False           False   \n",
      "3          False          False         False        False           False   \n",
      "5          False          False         False        False           False   \n",
      "6          False          False         False        False           False   \n",
      "8          False          False         False        False           False   \n",
      "\n",
      "   Genre_Unknown  Genre_War  \n",
      "1          False      False  \n",
      "3          False      False  \n",
      "5          False      False  \n",
      "6          False      False  \n",
      "8          False      False  \n",
      "\n",
      "[5 rows x 21 columns]\n"
     ]
    }
   ],
   "source": [
    "genre_dummies = pd.get_dummies(df_clean['Main_Genre'], prefix='Genre')\n",
    "print(genre_dummies.head())\n"
   ]
  },
  {
   "cell_type": "code",
   "execution_count": 23,
   "id": "9175a6bf-432e-4ccb-944a-694bf506164a",
   "metadata": {},
   "outputs": [
    {
     "name": "stdout",
     "output_type": "stream",
     "text": [
      "   Director_Basu Chatterjee  Director_David Dhawan  \\\n",
      "1                     False                  False   \n",
      "3                     False                  False   \n",
      "5                     False                  False   \n",
      "6                     False                  False   \n",
      "8                     False                  False   \n",
      "\n",
      "   Director_Hrishikesh Mukherjee  Director_Kanti Shah  Director_Mahesh Bhatt  \\\n",
      "1                          False                False                  False   \n",
      "3                          False                False                  False   \n",
      "5                          False                False                  False   \n",
      "6                          False                False                  False   \n",
      "8                          False                False                  False   \n",
      "\n",
      "   Director_Other  Director_Ram Gopal Varma  Director_Rama Rao Tatineni  \\\n",
      "1            True                     False                       False   \n",
      "3            True                     False                       False   \n",
      "5            True                     False                       False   \n",
      "6            True                     False                       False   \n",
      "8            True                     False                       False   \n",
      "\n",
      "   Director_Shakti Samanta  Director_Shibu Mitra  Director_Vikram Bhatt  \n",
      "1                    False                 False                  False  \n",
      "3                    False                 False                  False  \n",
      "5                    False                 False                  False  \n",
      "6                    False                 False                  False  \n",
      "8                    False                 False                  False  \n"
     ]
    }
   ],
   "source": [
    "top_directors = df_clean['Director'].value_counts().nlargest(10).index\n",
    "df_clean['Director_simple'] = df_clean['Director'].apply(lambda x: x if x in top_directors else 'Other')\n",
    "director_dummies = pd.get_dummies(df_clean['Director_simple'], prefix='Director')\n",
    "print(director_dummies.head())\n"
   ]
  },
  {
   "cell_type": "code",
   "execution_count": 24,
   "id": "23501952-9636-41b8-afc3-4c368cade16f",
   "metadata": {},
   "outputs": [
    {
     "name": "stdout",
     "output_type": "stream",
     "text": [
      "   Actor1_Akshay Kumar  Actor1_Amitabh Bachchan  Actor1_Ashok Kumar  \\\n",
      "1                False                    False               False   \n",
      "3                False                    False               False   \n",
      "5                False                    False               False   \n",
      "6                False                    False               False   \n",
      "8                False                    False               False   \n",
      "\n",
      "   Actor1_Dev Anand  Actor1_Dharmendra  Actor1_Jeetendra  \\\n",
      "1             False              False             False   \n",
      "3             False              False             False   \n",
      "5             False              False             False   \n",
      "6             False              False             False   \n",
      "8             False              False             False   \n",
      "\n",
      "   Actor1_Mithun Chakraborty  Actor1_Other  Actor1_Rajesh Khanna  \\\n",
      "1                      False          True                 False   \n",
      "3                      False          True                 False   \n",
      "5                      False          True                 False   \n",
      "6                      False          True                 False   \n",
      "8                      False          True                 False   \n",
      "\n",
      "   Actor1_Shashi Kapoor  Actor1_Unknown  \n",
      "1                 False           False  \n",
      "3                 False           False  \n",
      "5                 False           False  \n",
      "6                 False           False  \n",
      "8                 False           False  \n"
     ]
    }
   ],
   "source": [
    "top_actors1 = df_clean['Actor 1'].value_counts().nlargest(10).index\n",
    "df_clean['Actor1_simple'] = df_clean['Actor 1'].apply(lambda x: x if x in top_actors1 else 'Other')\n",
    "actor1_dummies = pd.get_dummies(df_clean['Actor1_simple'], prefix='Actor1')\n",
    "print(actor1_dummies.head())\n"
   ]
  },
  {
   "cell_type": "code",
   "execution_count": 25,
   "id": "cfe0599b-8b44-4e85-8d58-b27e4e86f4bb",
   "metadata": {},
   "outputs": [
    {
     "name": "stdout",
     "output_type": "stream",
     "text": [
      "(7919, 46)\n",
      "(7919,)\n"
     ]
    }
   ],
   "source": [
    "X = pd.concat([\n",
    "    df_clean[['Year', 'Duration', 'Votes']], \n",
    "    genre_dummies,\n",
    "    director_dummies,\n",
    "    actor1_dummies\n",
    "], axis=1)\n",
    "y = df_clean['Rating']\n",
    "print(X.shape)\n",
    "print(y.shape)\n"
   ]
  },
  {
   "cell_type": "code",
   "execution_count": 26,
   "id": "44043eb2-1b77-432f-8325-5bf9a58ff807",
   "metadata": {},
   "outputs": [
    {
     "name": "stdout",
     "output_type": "stream",
     "text": [
      "(6335, 46)\n",
      "(1584, 46)\n",
      "(6335,)\n",
      "(1584,)\n"
     ]
    }
   ],
   "source": [
    "from sklearn.model_selection import train_test_split\n",
    "\n",
    "X_train, X_test, y_train, y_test = train_test_split(\n",
    "    X, y, test_size=0.2, random_state=42\n",
    ")\n",
    "print(X_train.shape)\n",
    "print(X_test.shape)\n",
    "print(y_train.shape)\n",
    "print(y_test.shape)"
   ]
  },
  {
   "cell_type": "code",
   "execution_count": 34,
   "id": "b18a34c6-2b4e-41e0-920c-cddd8676a243",
   "metadata": {},
   "outputs": [
    {
     "name": "stdout",
     "output_type": "stream",
     "text": [
      "Coefficients: [-1.22301804e-02 -1.44338978e-03  1.83661950e-05 -4.75893140e-01\n",
      " -1.95833549e-01  1.98697835e-01  6.42324623e-01 -1.36617697e-01\n",
      "  1.36892461e-01  1.82545282e+00  1.30577834e-01  4.28984087e-02\n",
      "  2.12401736e-01  3.82782229e-01 -1.20700462e+00  8.81449098e-01\n",
      " -1.51841995e-01 -1.99994857e-01 -3.81016725e-01  9.94378698e-01\n",
      "  1.75982586e-01 -4.08438144e-01 -3.26191295e-01 -2.14100631e+00\n",
      "  5.03368942e-01 -3.44319395e-01  9.04505933e-01 -1.36752888e-01\n",
      " -3.45749677e-01  8.25589941e-02 -6.13295973e-02 -1.73654995e-01\n",
      "  5.79797415e-01 -4.05597090e-01 -6.02827642e-01 -1.69030364e-01\n",
      "  2.81925941e-01  1.18004279e-01  5.52756124e-01 -4.97107398e-02\n",
      " -6.35709404e-01 -4.17181338e-01 -7.68435201e-02  2.60764422e-01\n",
      "  2.31061117e-01 -9.60365159e-02]\n",
      "Intercept: 30.4838413062468\n"
     ]
    }
   ],
   "source": [
    "from sklearn.linear_model import LinearRegression\n",
    "\n",
    "model = LinearRegression()\n",
    "model.fit(X_train, y_train)\n",
    "print(\"Coefficients:\", model.coef_)\n",
    "print(\"Intercept:\", model.intercept_)\n"
   ]
  },
  {
   "cell_type": "code",
   "execution_count": 30,
   "id": "6ed574ef-0a6c-466e-87fa-79ed91984271",
   "metadata": {},
   "outputs": [
    {
     "name": "stdout",
     "output_type": "stream",
     "text": [
      "[5.56494675 5.04636591 5.1734965  5.94566068 4.4484904  5.3224298\n",
      " 5.85848693 6.03977449 6.40673781 5.95436996]\n"
     ]
    }
   ],
   "source": [
    "y_pred = model.predict(X_test)\n",
    "print(y_pred[:10])"
   ]
  },
  {
   "cell_type": "code",
   "execution_count": 31,
   "id": "52dc2d2f-d07f-407b-937e-dd58dfcbcff6",
   "metadata": {},
   "outputs": [
    {
     "name": "stdout",
     "output_type": "stream",
     "text": [
      "RMSE: 1.2298555132991482\n",
      "MAE: 0.9698256558645827\n"
     ]
    }
   ],
   "source": [
    "from sklearn.metrics import mean_squared_error, mean_absolute_error\n",
    "\n",
    "mse = mean_squared_error(y_test, y_pred)\n",
    "rmse = np.sqrt(mse)\n",
    "mae = mean_absolute_error(y_test, y_pred)\n",
    "\n",
    "print(\"RMSE:\", rmse)\n",
    "print(\"MAE:\", mae)\n"
   ]
  },
  {
   "cell_type": "code",
   "execution_count": 32,
   "id": "abb760ea-2be2-4394-9e63-315aa64e6503",
   "metadata": {},
   "outputs": [
    {
     "data": {
      "image/png": "[encoded data removed]",
      "text/plain": [
       "<Figure size 800x600 with 1 Axes>"
      ]
     },
     "metadata": {},
     "output_type": "display_data"
    }
   ],
   "source": [
    "import matplotlib.pyplot as plt\n",
    "\n",
    "plt.figure(figsize=(8,6))\n",
    "plt.scatter(y_test, y_pred, alpha=0.5, color=\"blue\")\n",
    "plt.xlabel(\"Actual Ratings\")\n",
    "plt.ylabel(\"Predicted Ratings\")\n",
    "plt.title(\"Actual vs Predicted Movie Ratings\")\n",
    "plt.plot([0,10],[0,10], color=\"red\", linestyle=\"--\")  # reference line\n",
    "plt.show()\n"
   ]
  },
  {
   "cell_type": "code",
   "execution_count": 33,
   "id": "00ea1aa9-336e-4065-a3a3-1ae986ea03d5",
   "metadata": {},
   "outputs": [
    {
     "name": "stdout",
     "output_type": "stream",
     "text": [
      "Tree RMSE: 1.5363021348155554\n",
      "Tree MAE: 1.160023148148148\n"
     ]
    }
   ],
   "source": [
    "from sklearn.tree import DecisionTreeRegressor\n",
    "\n",
    "tree_model = DecisionTreeRegressor(random_state=42)\n",
    "tree_model.fit(X_train, y_train)\n",
    "\n",
    "y_pred_tree = tree_model.predict(X_test)\n",
    "\n",
    "mse_tree = mean_squared_error(y_test, y_pred_tree)\n",
    "rmse_tree = np.sqrt(mse_tree)\n",
    "mae_tree = mean_absolute_error(y_test, y_pred_tree)\n",
    "\n",
    "print(\"Tree RMSE:\", rmse_tree)\n",
    "print(\"Tree MAE:\", mae_tree)\n"
   ]
  },
  {
   "cell_type": "markdown",
   "id": "c11c8c19-68c6-4260-8e25-c5c6b0b30355",
   "metadata": {},
   "source": [
    "## Model Evaluation Summary\n",
    "\n",
    "We trained and compared two regression models to predict movie ratings based on features like genre, director, and actors:\n",
    "\n",
    "- **Linear Regression**\n",
    "  - RMSE: 1.23\n",
    "  - MAE: 0.97\n",
    "\n",
    "- **Decision Tree Regressor**\n",
    "  - RMSE: 1.54\n",
    "  - MAE: 1.16\n",
    "\n",
    "The Linear Regression model performed better overall with lower average errors, suggesting it generalizes more reliably.\n"
   ]
  },
  {
   "cell_type": "code",
   "execution_count": null,
   "id": "3a46024b-d0f6-4e26-9e35-007c0cf908b7",
   "metadata": {},
   "outputs": [],
   "source": []
  }
 ],
 "metadata": {
  "kernelspec": {
   "display_name": "Python 3 (ipykernel)",
   "language": "python",
   "name": "python3"
  },
  "language_info": {
   "codemirror_mode": {
    "name": "ipython",
    "version": 3
   },
   "file_extension": ".py",
   "mimetype": "text/x-python",
   "name": "python",
   "nbconvert_exporter": "python",
   "pygments_lexer": "ipython3",
   "version": "3.13.5"
  }
 },
 "nbformat": 4,
 "nbformat_minor": 5
}
